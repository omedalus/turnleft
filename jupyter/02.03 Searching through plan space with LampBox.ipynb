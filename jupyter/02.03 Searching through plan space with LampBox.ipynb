{
 "cells": [
  {
   "cell_type": "code",
   "execution_count": 1,
   "id": "40da6a0b-7eee-4c3c-9549-2d977d587e6a",
   "metadata": {},
   "outputs": [],
   "source": [
    "from LampButtonBoxState import LampButtonBoxState\n",
    "b0 = LampButtonBoxState()"
   ]
  },
  {
   "cell_type": "code",
   "execution_count": 2,
   "id": "c19b8d15-a966-4206-a9eb-75ebe3acea05",
   "metadata": {},
   "outputs": [
    {
     "data": {
      "text/plain": [
       "{'CLOSE_LID', 'OPEN_LID', 'PRESS_BUTTON_BOTTOM', 'PRESS_BUTTON_TOP'}"
      ]
     },
     "execution_count": 2,
     "metadata": {},
     "output_type": "execute_result"
    }
   ],
   "source": [
    "b0.generate_possible_actions()"
   ]
  },
  {
   "cell_type": "code",
   "execution_count": 3,
   "id": "06556c56-4716-4b45-b7e8-c55b05d9acd3",
   "metadata": {},
   "outputs": [
    {
     "data": {
      "text/plain": [
       "1"
      ]
     },
     "execution_count": 3,
     "metadata": {},
     "output_type": "execute_result"
    }
   ],
   "source": [
    "b0._internal_switch"
   ]
  },
  {
   "cell_type": "code",
   "execution_count": null,
   "id": "5b618c07-40d9-4ed5-986a-3cd0856edcc8",
   "metadata": {},
   "outputs": [],
   "source": []
  },
  {
   "cell_type": "code",
   "execution_count": null,
   "id": "3f04d165-810e-4d1d-9bf8-883a29536a58",
   "metadata": {},
   "outputs": [],
   "source": []
  },
  {
   "cell_type": "code",
   "execution_count": null,
   "id": "1ad7f3cf-d625-459f-8ac5-57f0f42773f9",
   "metadata": {},
   "outputs": [],
   "source": []
  },
  {
   "cell_type": "code",
   "execution_count": null,
   "id": "8e9968d7-e2c5-45df-a5fd-8f368d4394eb",
   "metadata": {},
   "outputs": [],
   "source": []
  },
  {
   "cell_type": "code",
   "execution_count": 4,
   "id": "07321ae2-a3f4-4fb9-8417-81639816515e",
   "metadata": {},
   "outputs": [
    {
     "name": "stdout",
     "output_type": "stream",
     "text": [
      "None\n",
      " -> OBSERVE:{'LID_OPEN'} ACTIONS:{'PRESS_BUTTON_TOP', 'PRESS_BUTTON_BOTTOM', 'CLOSE_LID', 'OPEN_LID'}\n",
      "    PRESS_BUTTON_TOP\n",
      "     -> OBSERVE:{'ZAP', 'LID_OPEN'} ACTIONS:{'PRESS_BUTTON_TOP', 'PRESS_BUTTON_BOTTOM', 'CLOSE_LID', 'OPEN_LID'}\n",
      "    PRESS_BUTTON_BOTTOM\n",
      "     -> OBSERVE:{'TREAT', 'LID_OPEN'} ACTIONS:{'PRESS_BUTTON_TOP', 'PRESS_BUTTON_BOTTOM', 'CLOSE_LID', 'OPEN_LID'}\n",
      "Done!\n"
     ]
    }
   ],
   "source": [
    "# We should use a PriorityQueue, but Python insists\n",
    "# on having only one item per priority level and on making\n",
    "# me implement comparators. So screw it, I'll just maintain\n",
    "# my own frontier set. It'll be slightly inefficient but\n",
    "# we're just prototyping here so I don't care.\n",
    "\n",
    "statefrontier = []\n",
    "\n",
    "statefrontier.append(b0)\n",
    "\n",
    "while len(statefrontier) > 0:\n",
    "    mincost = min([b.cost for b in statefrontier])    \n",
    "    b = next(x for x in statefrontier if x.cost <= mincost)\n",
    "    \n",
    "    statefrontier = [x for x in statefrontier if x != b]\n",
    "    \n",
    "    obs = b.observe()\n",
    "    acts = b.generate_possible_actions()\n",
    "    \n",
    "    sindent = \"    \" * mincost\n",
    "    sline = f\"{sindent}{b.action_from_prev_state}\\n{sindent} -> OBSERVE:{obs} ACTIONS:{acts}\"\n",
    "    print(sline)\n",
    "    \n",
    "    if \"TREAT\" in obs:\n",
    "        break\n",
    "    \n",
    "    for act in acts:\n",
    "        bnext = b.act(act)\n",
    "        statefrontier.append(bnext)\n",
    "        \n",
    "print(\"Done!\")"
   ]
  },
  {
   "cell_type": "code",
   "execution_count": null,
   "id": "3f6ad389-2349-4313-89cd-08ee7a6202cb",
   "metadata": {},
   "outputs": [],
   "source": []
  },
  {
   "cell_type": "code",
   "execution_count": null,
   "id": "085a8174-1ab5-4d3b-a573-2ba77ff3931a",
   "metadata": {},
   "outputs": [],
   "source": []
  },
  {
   "cell_type": "code",
   "execution_count": null,
   "id": "3a9aaf95-abf0-4b51-9952-efa6292f2d25",
   "metadata": {},
   "outputs": [],
   "source": []
  },
  {
   "cell_type": "code",
   "execution_count": null,
   "id": "c906a64d-18b4-48ce-9c66-515f61850a7d",
   "metadata": {},
   "outputs": [],
   "source": []
  },
  {
   "cell_type": "code",
   "execution_count": null,
   "id": "217e1bed-a610-4dac-a3a4-6673d51c1ea6",
   "metadata": {},
   "outputs": [],
   "source": []
  },
  {
   "cell_type": "code",
   "execution_count": null,
   "id": "69a892b3-0707-47d7-b88e-45a0f8c462ff",
   "metadata": {},
   "outputs": [],
   "source": []
  }
 ],
 "metadata": {
  "kernelspec": {
   "display_name": "Python 3 (ipykernel)",
   "language": "python",
   "name": "python3"
  },
  "language_info": {
   "codemirror_mode": {
    "name": "ipython",
    "version": 3
   },
   "file_extension": ".py",
   "mimetype": "text/x-python",
   "name": "python",
   "nbconvert_exporter": "python",
   "pygments_lexer": "ipython3",
   "version": "3.9.13"
  }
 },
 "nbformat": 4,
 "nbformat_minor": 5
}
