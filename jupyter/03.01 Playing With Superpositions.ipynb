{
 "cells": [
  {
   "cell_type": "markdown",
   "id": "c3f34aa8-2607-42c5-ab01-e72cd979e2f3",
   "metadata": {},
   "source": [
    "In this experiment, our agent doesn't inially know whether the top or bottom lamp is lit. This knowledge isn't available to the state representation. It has to devise a plan that works regardless of whether it's in a Top world or a Bottom world. Note that this will be impossible unless it creates an internal memory register that tracks which lamp it's seen."
   ]
  },
  {
   "cell_type": "code",
   "execution_count": 1,
   "id": "f14d5837-c50f-4639-ab75-a01e5a987b37",
   "metadata": {},
   "outputs": [],
   "source": [
    "from LampButtonBoxState import LampButtonBoxState\n",
    "from StateSuperposition import StateSuperposition"
   ]
  },
  {
   "cell_type": "code",
   "execution_count": 2,
   "id": "f00f5d43-670a-49cd-a833-e7086aabd779",
   "metadata": {},
   "outputs": [
    {
     "data": {
      "text/plain": [
       "[([\"LID_OPEN\"], Super:2)]"
      ]
     },
     "execution_count": 2,
     "metadata": {},
     "output_type": "execute_result"
    }
   ],
   "source": [
    "boxstate1 = LampButtonBoxState()\n",
    "boxstate1._internal_switch = 0\n",
    "\n",
    "boxstate2 = LampButtonBoxState()\n",
    "boxstate2._internal_switch = 1\n",
    "\n",
    "boxsuper_0 = StateSuperposition()\n",
    "boxsuper_0.add_state(boxstate1)\n",
    "boxsuper_0.add_state(boxstate2)\n",
    "\n",
    "boxsuper_0.observe()"
   ]
  },
  {
   "cell_type": "code",
   "execution_count": 3,
   "id": "ef860a61-45ec-4b9d-ab2a-49093a4b43e2",
   "metadata": {},
   "outputs": [
    {
     "data": {
      "text/plain": [
       "[([\"LID_CLOSED\", \"LIGHT_TOP\"], Super:1),\n",
       " ([\"LID_CLOSED\", \"LIGHT_BOTTOM\"], Super:1)]"
      ]
     },
     "execution_count": 3,
     "metadata": {},
     "output_type": "execute_result"
    }
   ],
   "source": [
    "boxsuper_1 = boxsuper_0.act(\"CLOSE_LID\")\n",
    "boxsuper_1.observe()"
   ]
  },
  {
   "cell_type": "code",
   "execution_count": 4,
   "id": "5d796a1d-fe5d-4041-877a-bfffccfe7737",
   "metadata": {},
   "outputs": [
    {
     "data": {
      "text/plain": [
       "[([\"LID_OPEN\"], Super:2)]"
      ]
     },
     "execution_count": 4,
     "metadata": {},
     "output_type": "execute_result"
    }
   ],
   "source": [
    "boxsuper_2 = boxsuper_1.act(\"OPEN_LID\")\n",
    "boxsuper_2.observe()"
   ]
  },
  {
   "cell_type": "code",
   "execution_count": 5,
   "id": "d678ee5b-d891-4c89-8e2c-de170ffc7d80",
   "metadata": {},
   "outputs": [
    {
     "data": {
      "text/plain": [
       "[([\"LID_OPEN\", \"ZAP\"], Super:1), ([\"LID_OPEN\", \"TREAT\"], Super:1)]"
      ]
     },
     "execution_count": 5,
     "metadata": {},
     "output_type": "execute_result"
    }
   ],
   "source": [
    "boxsuper_3 = boxsuper_2.act(\"PRESS_BUTTON_BOTTOM\")\n",
    "boxsuper_3.observe()"
   ]
  },
  {
   "cell_type": "code",
   "execution_count": 6,
   "id": "fa83e3aa-73d2-450c-8110-838672948c3d",
   "metadata": {},
   "outputs": [
    {
     "data": {
      "text/plain": [
       "[1, 3, 21]"
      ]
     },
     "execution_count": 6,
     "metadata": {},
     "output_type": "execute_result"
    }
   ],
   "source": [
    "a = [3,21,1]\n",
    "a.sort()\n",
    "a"
   ]
  },
  {
   "cell_type": "code",
   "execution_count": null,
   "id": "45545b4e-4b19-4eb4-9a31-4b0e68fcb35b",
   "metadata": {},
   "outputs": [],
   "source": []
  }
 ],
 "metadata": {
  "kernelspec": {
   "display_name": "Python 3 (ipykernel)",
   "language": "python",
   "name": "python3"
  },
  "language_info": {
   "codemirror_mode": {
    "name": "ipython",
    "version": 3
   },
   "file_extension": ".py",
   "mimetype": "text/x-python",
   "name": "python",
   "nbconvert_exporter": "python",
   "pygments_lexer": "ipython3",
   "version": "3.9.13"
  }
 },
 "nbformat": 4,
 "nbformat_minor": 5
}
