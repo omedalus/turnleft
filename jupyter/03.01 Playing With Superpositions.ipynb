{
 "cells": [
  {
   "cell_type": "markdown",
   "id": "c3f34aa8-2607-42c5-ab01-e72cd979e2f3",
   "metadata": {},
   "source": [
    "In this experiment, our agent doesn't inially know whether the top or bottom lamp is lit. This knowledge isn't available to the state representation. It has to devise a plan that works regardless of whether it's in a Top world or a Bottom world. Note that this will be impossible unless it creates an internal memory register that tracks which lamp it's seen."
   ]
  },
  {
   "cell_type": "code",
   "execution_count": 1,
   "id": "f14d5837-c50f-4639-ab75-a01e5a987b37",
   "metadata": {},
   "outputs": [],
   "source": [
    "from LampButtonBoxState import LampButtonBoxState\n",
    "from StateSuperposition import StateSuperposition"
   ]
  },
  {
   "cell_type": "code",
   "execution_count": 2,
   "id": "f00f5d43-670a-49cd-a833-e7086aabd779",
   "metadata": {},
   "outputs": [
    {
     "data": {
      "text/plain": [
       "[([\"LID_OPEN\"], Super:2)]"
      ]
     },
     "execution_count": 2,
     "metadata": {},
     "output_type": "execute_result"
    }
   ],
   "source": [
    "boxstate1 = LampButtonBoxState()\n",
    "boxstate1._internal_switch = 0\n",
    "\n",
    "boxstate2 = LampButtonBoxState()\n",
    "boxstate2._internal_switch = 1\n",
    "\n",
    "boxsuper_0 = StateSuperposition()\n",
    "boxsuper_0.add_state(boxstate1)\n",
    "boxsuper_0.add_state(boxstate2)\n",
    "\n",
    "boxsuper_0.observe()"
   ]
  },
  {
   "cell_type": "code",
   "execution_count": 3,
   "id": "ef860a61-45ec-4b9d-ab2a-49093a4b43e2",
   "metadata": {},
   "outputs": [
    {
     "data": {
      "text/plain": [
       "[([\"LID_CLOSED\", \"LIGHT_TOP\"], Super:1),\n",
       " ([\"LID_CLOSED\", \"LIGHT_BOTTOM\"], Super:1)]"
      ]
     },
     "execution_count": 3,
     "metadata": {},
     "output_type": "execute_result"
    }
   ],
   "source": [
    "boxsuper_1 = boxsuper_0.act(\"CLOSE_LID\")\n",
    "boxsuper_1.observe()"
   ]
  },
  {
   "cell_type": "code",
   "execution_count": 4,
   "id": "5d796a1d-fe5d-4041-877a-bfffccfe7737",
   "metadata": {},
   "outputs": [
    {
     "data": {
      "text/plain": [
       "[([\"LID_OPEN\"], Super:2)]"
      ]
     },
     "execution_count": 4,
     "metadata": {},
     "output_type": "execute_result"
    }
   ],
   "source": [
    "boxsuper_2 = boxsuper_1.act(\"OPEN_LID\")\n",
    "boxsuper_2.observe()"
   ]
  },
  {
   "cell_type": "markdown",
   "id": "2f1b04d3-0202-4dbb-92c4-f51ed284ce02",
   "metadata": {},
   "source": [
    "Ah, but here's the rub! At this point, the search diverges. We explore the superpositions resulting from the *observations*, not those resulting from the action!"
   ]
  },
  {
   "cell_type": "code",
   "execution_count": 5,
   "id": "d678ee5b-d891-4c89-8e2c-de170ffc7d80",
   "metadata": {},
   "outputs": [
    {
     "data": {
      "text/plain": [
       "[([\"LID_OPEN\", \"ZAP\"], Super:1), ([\"LID_OPEN\", \"TREAT\"], Super:1)]"
      ]
     },
     "execution_count": 5,
     "metadata": {},
     "output_type": "execute_result"
    }
   ],
   "source": [
    "boxsuper_3 = boxsuper_2.act(\"PRESS_BUTTON_BOTTOM\")\n",
    "boxsuper_3.observe()"
   ]
  },
  {
   "cell_type": "code",
   "execution_count": 6,
   "id": "fa83e3aa-73d2-450c-8110-838672948c3d",
   "metadata": {},
   "outputs": [
    {
     "data": {
      "text/plain": [
       "[1, 3, 21]"
      ]
     },
     "execution_count": 6,
     "metadata": {},
     "output_type": "execute_result"
    }
   ],
   "source": [
    "a = [3,21,1]\n",
    "a.sort()\n",
    "a"
   ]
  },
  {
   "cell_type": "markdown",
   "id": "4c6d47d2-2a8b-49ef-8f97-7d42909270f1",
   "metadata": {},
   "source": [
    "In this game, it's a guaranteed win. We take no chances.\n",
    "\n",
    "When performing search, the rules are:\n",
    "* An observation is victorious if it contains a TREAT.\n",
    "* An observation is victorious if its child superposition is victorious.\n",
    "* An observation is defeated if it contains a ZAP.\n",
    "* An observation is defeated if its child superposition is defeated.\n",
    "* A state is victorious if its observation is victorious.\n",
    "* A state is defeated if its observation is defeated.\n",
    "* A state is victorious if there exists at least one action performed from that state that is victorious.\n",
    "* A state is defeated if every action from that state is defeated.\n",
    "* An action is victorious if every state it leads to is victorious.\n",
    "* An action is defeated if any state it leads to is defeated.\n",
    "* A superposition is victorious if all of its comprised states are victorious.\n",
    "* A superposition is defeated if any of its comprised states are defeated.\n",
    "* A superposition is victorious if all of its observations are victorious. It means that, no matter what we will observe, we will have a route to victory from it.\n",
    "* A superposition is defeated if any of its observations are defeated. It means that there's a possibility that, if we enter this superposition, the world might throw a situation at us that we won't be able to recover from.\n",
    "\n",
    "And remember, kids:\n",
    "* We expand superstates from *observations*, not based on actions!\n",
    "* We are ultimately looking for the next *action* to take. All other considerations are secondary."
   ]
  },
  {
   "cell_type": "code",
   "execution_count": 98,
   "id": "3b4b9d56-e12c-44d9-9b92-3495c10e7549",
   "metadata": {},
   "outputs": [],
   "source": [
    "# Takes a state that was arrived at through some action. (\"Start\" is an implicit action).\n",
    "class ObservationSearchNode:\n",
    "    def __init__(self):\n",
    "        self.statesuperposition = None\n",
    "        \n",
    "        self.is_victory = False\n",
    "        self.is_defeat = False\n",
    "        \n",
    "        self.parent_action_node = None\n",
    "        self.action_in_parent = None\n",
    "        \n",
    "        # Tuples of observation object and action search nodes.\n",
    "        self.children_of_observations = []\n",
    "        \n",
    "    \n",
    "    # Determines whether or not this node contains a termination condition.\n",
    "    # Returns True if this termination condition was newly detected and needs\n",
    "    # to be propagated to the parent (or was propagated), otherwise False.\n",
    "    def evaluate_termination(self, recurse=True):\n",
    "        print(\"Evaluating termination\")\n",
    "        if self.is_victory or self.is_defeat:\n",
    "            # No change.\n",
    "            return False\n",
    "        \n",
    "        if len(self.children_of_observations) == 0:\n",
    "            return False        \n",
    "        \n",
    "        all_victory = True\n",
    "        for observation, childnode in self.children_of_observations:\n",
    "            print(observation)\n",
    "            print(f\"Does observation have zap? {observation.has('ZAP')}\")\n",
    "            if observation.has('ZAP') or childnode.is_defeat:\n",
    "                print(\"This node is defeated\")\n",
    "                # If ANY observation is defeated, this search node is defeated.\n",
    "                self.is_defeat = True\n",
    "                if recurse and self.parent_action_node:\n",
    "                    self.parent_action_node.evaluate_termination(True)\n",
    "                # Return True to indicate we've changed.\n",
    "                return True\n",
    "            \n",
    "            if not (observation.has('TREAT') or childnode.is_victory):\n",
    "                all_victory = False\n",
    "                # We can't break or return because we might still be defeated.\n",
    "        \n",
    "        if all_victory:\n",
    "            # If ALL observations are victorious, this search node is victorious.\n",
    "            self.is_victory = True\n",
    "            if recurse and self.parent_action_node:\n",
    "                self.parent_action_node.evaluate_termination(True)            \n",
    "            # Return True to indicate we've changed.\n",
    "            return True\n",
    "        \n",
    "        # No change.\n",
    "        return False\n",
    "\n",
    "    \n",
    "    # Perform an observation in this superposition, and produce new\n",
    "    # superpositions that correspond to states that are grouped by the\n",
    "    # common observations that they would produce.\n",
    "    def collapse_superposition(self):\n",
    "        newnodes = []\n",
    "        if self.statesuperposition is None:\n",
    "            return newnodes\n",
    "        \n",
    "        obssets = self.statesuperposition.observe()\n",
    "        for observation, nextsuperposition in obssets:\n",
    "            actionnode = ActionSearchNode()\n",
    "            actionnode.statesuperposition = nextsuperposition\n",
    "            actionnode.parent_observation_node = self\n",
    "            actionnode.observation_in_parent = observation\n",
    "            self.children_of_observations.append( (observation, actionnode) )\n",
    "            newnodes.append(actionnode)\n",
    "\n",
    "        # Now that we have children, evaluate our terminations.\n",
    "        self.evaluate_termination(True)\n",
    "        return newnodes\n",
    "            \n",
    "            \n",
    "\n",
    "# Takes a superposition that resulted from an observation,\n",
    "# and performs an action in it.\n",
    "class ActionSearchNode:\n",
    "    def __init__(self):\n",
    "        self.statesuperposition = None\n",
    "        \n",
    "        self.is_victory = False\n",
    "        self.is_defeat = False\n",
    "        \n",
    "        self.parent_observation_node = None\n",
    "        self.observation_in_parent = None\n",
    "        \n",
    "        self.children_of_actions = {}\n",
    "        \n",
    "    # Determines whether or not this node contains a termination condition.\n",
    "    # Returns True if this termination condition was newly detected and needs\n",
    "    # to be propagated to the parent (or was propagated), otherwise False.    \n",
    "    def evaluate_termination(self, recurse=True):\n",
    "        if self.is_victory or self.is_defeat:\n",
    "            # No change.\n",
    "            return False\n",
    "        \n",
    "        if len(self.children_of_actions) == 0:\n",
    "            return False\n",
    "        \n",
    "        all_defeat = True\n",
    "        for childnode in self.children_of_actions.values():\n",
    "            if childnode.is_victory:\n",
    "                # If any action child is victorious, then this node is victorious.\n",
    "                self.is_victory = True\n",
    "                if recurse and self.parent_observation_node:\n",
    "                    self.parent_observation_node.evaluate_termination(True)\n",
    "                # Return True to indicate we've changed.\n",
    "                return True\n",
    "            \n",
    "            if not childnode.is_defeat:\n",
    "                all_defeat = False\n",
    "\n",
    "        if all_defeat:\n",
    "            # If all action children are defeated, then this node is defeated.\n",
    "            self.is_defeat = True\n",
    "            if recurse and self.parent_observation_node:\n",
    "                self.parent_observation_node.evaluate_termination(True)\n",
    "            # Return True to indicate we've changed.\n",
    "            return True\n",
    "        \n",
    "        # No change.\n",
    "        return False\n",
    "        \n",
    "    # Go through possible actions from possible states, and act them\n",
    "    # on this superposition.\n",
    "    def brainstorm_actions(self):\n",
    "        newnodes = []\n",
    "        if self.statesuperposition is None:\n",
    "            return newnodes\n",
    "        \n",
    "        actionoptions = self.statesuperposition.generate_possible_actions()\n",
    "        for action in actionoptions:\n",
    "            nextsuperposition = self.statesuperposition.act(action)\n",
    "            observenode = ObservationSearchNode()\n",
    "            observenode.statesuperposition = nextsuperposition\n",
    "            observenode.parent_action_node = self\n",
    "            observenode.action_in_parent = action\n",
    "            self.children_of_actions[action] = observenode\n",
    "            newnodes.append(observenode)\n",
    "            \n",
    "        # Now that we have children, evaluate our terminations.\n",
    "        self.evaluate_termination(True)\n",
    "        return newnodes\n",
    "            \n",
    "        \n",
    "        \n",
    "        \n",
    "        \n",
    "    \n",
    "        "
   ]
  },
  {
   "cell_type": "code",
   "execution_count": null,
   "id": "d42e6d6c-47a0-4116-bbc9-e5128031e73f",
   "metadata": {},
   "outputs": [],
   "source": []
  },
  {
   "cell_type": "code",
   "execution_count": 99,
   "id": "bf152a8f-023b-4145-abc4-4f2b97d1d358",
   "metadata": {},
   "outputs": [
    {
     "name": "stdout",
     "output_type": "stream",
     "text": [
      "Evaluating termination\n"
     ]
    },
    {
     "data": {
      "text/plain": [
       "False"
      ]
     },
     "execution_count": 99,
     "metadata": {},
     "output_type": "execute_result"
    }
   ],
   "source": [
    "node1 = ObservationSearchNode()\n",
    "node1.statesuperposition = boxsuper_0\n",
    "node1.evaluate_termination()"
   ]
  },
  {
   "cell_type": "code",
   "execution_count": 100,
   "id": "07452c75-6c34-433d-8007-fd161f97fdcd",
   "metadata": {},
   "outputs": [
    {
     "name": "stdout",
     "output_type": "stream",
     "text": [
      "Evaluating termination\n",
      "[\"LID_OPEN\"]\n",
      "Does observation have zap? False\n"
     ]
    },
    {
     "data": {
      "text/plain": [
       "[<__main__.ActionSearchNode at 0x2455c7b27c0>]"
      ]
     },
     "execution_count": 100,
     "metadata": {},
     "output_type": "execute_result"
    }
   ],
   "source": [
    "node1.collapse_superposition()"
   ]
  },
  {
   "cell_type": "code",
   "execution_count": 101,
   "id": "e6e8c419-41b4-4bd5-9b6e-5ddb1f6a7ecb",
   "metadata": {},
   "outputs": [
    {
     "data": {
      "text/plain": [
       "(False, False)"
      ]
     },
     "execution_count": 101,
     "metadata": {},
     "output_type": "execute_result"
    }
   ],
   "source": [
    "(node1.is_victory, node1.is_defeat)"
   ]
  },
  {
   "cell_type": "code",
   "execution_count": 102,
   "id": "6ffbdbd1-5b9e-48a9-baf2-75235ed34e40",
   "metadata": {},
   "outputs": [
    {
     "data": {
      "text/plain": [
       "[<__main__.ObservationSearchNode at 0x2455d07ff10>,\n",
       " <__main__.ObservationSearchNode at 0x2455c582df0>,\n",
       " <__main__.ObservationSearchNode at 0x2455c582e80>,\n",
       " <__main__.ObservationSearchNode at 0x2455d0eef10>]"
      ]
     },
     "execution_count": 102,
     "metadata": {},
     "output_type": "execute_result"
    }
   ],
   "source": [
    "node1.children_of_observations[0][1].brainstorm_actions()"
   ]
  },
  {
   "cell_type": "code",
   "execution_count": 103,
   "id": "ba45396e-97a4-440f-9325-9716e06a91b6",
   "metadata": {},
   "outputs": [
    {
     "data": {
      "text/plain": [
       "(False, False)"
      ]
     },
     "execution_count": 103,
     "metadata": {},
     "output_type": "execute_result"
    }
   ],
   "source": [
    "(node1.children_of_observations[0][1].children_of_actions['PRESS_BUTTON_TOP'].is_victory,\n",
    " node1.children_of_observations[0][1].children_of_actions['PRESS_BUTTON_TOP'].is_defeat)"
   ]
  },
  {
   "cell_type": "code",
   "execution_count": 104,
   "id": "1acb0ff9-16ba-4dec-9822-fd5d6f474676",
   "metadata": {},
   "outputs": [
    {
     "name": "stdout",
     "output_type": "stream",
     "text": [
      "Evaluating termination\n",
      "[\"LID_OPEN\", \"TREAT\"]\n",
      "Does observation have zap? False\n",
      "[\"LID_OPEN\", \"ZAP\"]\n",
      "Does observation have zap? True\n",
      "This node is defeated\n"
     ]
    },
    {
     "data": {
      "text/plain": [
       "[<__main__.ActionSearchNode at 0x2455c7b2730>,\n",
       " <__main__.ActionSearchNode at 0x2455c7b2d00>]"
      ]
     },
     "execution_count": 104,
     "metadata": {},
     "output_type": "execute_result"
    }
   ],
   "source": [
    "node1.children_of_observations[0][1].children_of_actions['PRESS_BUTTON_TOP'].collapse_superposition()"
   ]
  },
  {
   "cell_type": "code",
   "execution_count": 105,
   "id": "2e5014c2-27ea-4654-83f3-ca535812b744",
   "metadata": {},
   "outputs": [
    {
     "data": {
      "text/plain": [
       "True"
      ]
     },
     "execution_count": 105,
     "metadata": {},
     "output_type": "execute_result"
    }
   ],
   "source": [
    "node1.children_of_observations[0][1].children_of_actions['PRESS_BUTTON_TOP'].is_defeat"
   ]
  },
  {
   "cell_type": "code",
   "execution_count": 106,
   "id": "13654dd8-10c3-4e09-9214-ad0da666769f",
   "metadata": {},
   "outputs": [
    {
     "data": {
      "text/plain": [
       "False"
      ]
     },
     "execution_count": 106,
     "metadata": {},
     "output_type": "execute_result"
    }
   ],
   "source": [
    "node1.is_defeat"
   ]
  },
  {
   "cell_type": "code",
   "execution_count": 107,
   "id": "fbff5358-c8cd-4704-838d-6df637897924",
   "metadata": {},
   "outputs": [
    {
     "data": {
      "text/plain": [
       "{'PRESS_BUTTON_TOP': <__main__.ObservationSearchNode at 0x2455d07ff10>,\n",
       " 'CLOSE_LID': <__main__.ObservationSearchNode at 0x2455c582df0>,\n",
       " 'PRESS_BUTTON_BOTTOM': <__main__.ObservationSearchNode at 0x2455c582e80>,\n",
       " 'OPEN_LID': <__main__.ObservationSearchNode at 0x2455d0eef10>}"
      ]
     },
     "execution_count": 107,
     "metadata": {},
     "output_type": "execute_result"
    }
   ],
   "source": [
    "node1.children_of_observations[0][1].children_of_actions"
   ]
  },
  {
   "cell_type": "code",
   "execution_count": 108,
   "id": "9fb0a6a1-f719-465d-a6b9-e75a60809d34",
   "metadata": {},
   "outputs": [
    {
     "name": "stdout",
     "output_type": "stream",
     "text": [
      "Evaluating termination\n",
      "[\"LID_CLOSED\", \"LIGHT_TOP\"]\n",
      "Does observation have zap? False\n",
      "[\"LID_CLOSED\", \"LIGHT_BOTTOM\"]\n",
      "Does observation have zap? False\n"
     ]
    },
    {
     "data": {
      "text/plain": [
       "[<__main__.ActionSearchNode at 0x2455a5f58b0>,\n",
       " <__main__.ActionSearchNode at 0x2455c509310>]"
      ]
     },
     "execution_count": 108,
     "metadata": {},
     "output_type": "execute_result"
    }
   ],
   "source": [
    "node1.children_of_observations[0][1].children_of_actions[\"CLOSE_LID\"].collapse_superposition()"
   ]
  },
  {
   "cell_type": "code",
   "execution_count": 109,
   "id": "688dbada-cb10-43d3-b36c-33bc1dbf581e",
   "metadata": {},
   "outputs": [
    {
     "data": {
      "text/plain": [
       "[([\"LID_CLOSED\", \"LIGHT_TOP\"], <__main__.ActionSearchNode at 0x2455a5f58b0>),\n",
       " ([\"LID_CLOSED\", \"LIGHT_BOTTOM\"],\n",
       "  <__main__.ActionSearchNode at 0x2455c509310>)]"
      ]
     },
     "execution_count": 109,
     "metadata": {},
     "output_type": "execute_result"
    }
   ],
   "source": [
    "node1.children_of_observations[0][1].children_of_actions[\"CLOSE_LID\"].children_of_observations"
   ]
  },
  {
   "cell_type": "code",
   "execution_count": 110,
   "id": "d1fdd906-9571-4c4f-b3eb-e73d4583a8dd",
   "metadata": {},
   "outputs": [
    {
     "data": {
      "text/plain": [
       "[<__main__.ObservationSearchNode at 0x2455d0ee220>,\n",
       " <__main__.ObservationSearchNode at 0x2455d0ee070>,\n",
       " <__main__.ObservationSearchNode at 0x2455c5c5bb0>,\n",
       " <__main__.ObservationSearchNode at 0x2455d0eddc0>]"
      ]
     },
     "execution_count": 110,
     "metadata": {},
     "output_type": "execute_result"
    }
   ],
   "source": [
    "node1.children_of_observations[0][1].children_of_actions[\"CLOSE_LID\"].children_of_observations[0][1].brainstorm_actions()"
   ]
  },
  {
   "cell_type": "code",
   "execution_count": 111,
   "id": "e11252dd-8893-4687-815e-592a43227d2f",
   "metadata": {},
   "outputs": [
    {
     "name": "stdout",
     "output_type": "stream",
     "text": [
      "Evaluating termination\n",
      "[\"LID_OPEN\"]\n",
      "Does observation have zap? False\n"
     ]
    },
    {
     "data": {
      "text/plain": [
       "[<__main__.ActionSearchNode at 0x2455d0ee6a0>]"
      ]
     },
     "execution_count": 111,
     "metadata": {},
     "output_type": "execute_result"
    }
   ],
   "source": [
    "node1.children_of_observations[0][1].children_of_actions[\"CLOSE_LID\"].children_of_observations[0][1].children_of_actions[\"OPEN_LID\"].collapse_superposition()"
   ]
  },
  {
   "cell_type": "code",
   "execution_count": 112,
   "id": "57d57a9c-ddd0-423d-912c-ff3b83d979cd",
   "metadata": {},
   "outputs": [
    {
     "data": {
      "text/plain": [
       "[<__main__.ObservationSearchNode at 0x2455c5eb6a0>,\n",
       " <__main__.ObservationSearchNode at 0x2455c5eb2e0>,\n",
       " <__main__.ObservationSearchNode at 0x2455c5eb430>,\n",
       " <__main__.ObservationSearchNode at 0x2455c5eb640>]"
      ]
     },
     "execution_count": 112,
     "metadata": {},
     "output_type": "execute_result"
    }
   ],
   "source": [
    "node1.children_of_observations[0][1].children_of_actions[\"CLOSE_LID\"].children_of_observations[0][1].children_of_actions[\"OPEN_LID\"].children_of_observations[0][1].brainstorm_actions()"
   ]
  },
  {
   "cell_type": "code",
   "execution_count": 113,
   "id": "96b7af26-3426-414a-af16-39199df343ae",
   "metadata": {},
   "outputs": [
    {
     "name": "stdout",
     "output_type": "stream",
     "text": [
      "Evaluating termination\n",
      "[\"LID_OPEN\", \"TREAT\"]\n",
      "Does observation have zap? False\n",
      "Evaluating termination\n",
      "[\"LID_OPEN\"]\n",
      "Does observation have zap? False\n",
      "Evaluating termination\n",
      "[\"LID_CLOSED\", \"LIGHT_TOP\"]\n",
      "Does observation have zap? False\n",
      "[\"LID_CLOSED\", \"LIGHT_BOTTOM\"]\n",
      "Does observation have zap? False\n"
     ]
    },
    {
     "data": {
      "text/plain": [
       "[<__main__.ActionSearchNode at 0x2455d0ed580>]"
      ]
     },
     "execution_count": 113,
     "metadata": {},
     "output_type": "execute_result"
    }
   ],
   "source": [
    "node1.children_of_observations[0][1].children_of_actions[\"CLOSE_LID\"].children_of_observations[0][1].children_of_actions[\"OPEN_LID\"].children_of_observations[0][1].children_of_actions[\"PRESS_BUTTON_TOP\"].collapse_superposition()"
   ]
  },
  {
   "cell_type": "code",
   "execution_count": 114,
   "id": "c88d8b32-5969-4305-b588-648d378a1c0c",
   "metadata": {},
   "outputs": [
    {
     "data": {
      "text/plain": [
       "True"
      ]
     },
     "execution_count": 114,
     "metadata": {},
     "output_type": "execute_result"
    }
   ],
   "source": [
    "node1.children_of_observations[0][1].children_of_actions[\"CLOSE_LID\"].children_of_observations[0][1].children_of_actions[\"OPEN_LID\"].children_of_observations[0][1].children_of_actions[\"PRESS_BUTTON_TOP\"].is_victory"
   ]
  },
  {
   "cell_type": "code",
   "execution_count": 115,
   "id": "c953fcfb-aacd-4229-ab06-bcb60d36b9d9",
   "metadata": {},
   "outputs": [
    {
     "data": {
      "text/plain": [
       "True"
      ]
     },
     "execution_count": 115,
     "metadata": {},
     "output_type": "execute_result"
    }
   ],
   "source": [
    "node1.children_of_observations[0][1].children_of_actions[\"CLOSE_LID\"].children_of_observations[0][1].children_of_actions[\"OPEN_LID\"].is_victory"
   ]
  },
  {
   "cell_type": "code",
   "execution_count": 117,
   "id": "402a04e4-4bc9-4ab5-b281-06d4e3953c4d",
   "metadata": {},
   "outputs": [
    {
     "data": {
      "text/plain": [
       "False"
      ]
     },
     "execution_count": 117,
     "metadata": {},
     "output_type": "execute_result"
    }
   ],
   "source": [
    "node1.children_of_observations[0][1].children_of_actions[\"CLOSE_LID\"].is_victory"
   ]
  },
  {
   "cell_type": "code",
   "execution_count": 118,
   "id": "9433ac25-7236-4816-9688-71cecd77ee84",
   "metadata": {},
   "outputs": [
    {
     "name": "stdout",
     "output_type": "stream",
     "text": [
      "Evaluating termination\n",
      "[\"LID_OPEN\"]\n",
      "Does observation have zap? False\n",
      "Evaluating termination\n",
      "[\"LID_OPEN\", \"ZAP\"]\n",
      "Does observation have zap? True\n",
      "This node is defeated\n"
     ]
    },
    {
     "data": {
      "text/plain": [
       "[<__main__.ActionSearchNode at 0x2455c5fd1f0>]"
      ]
     },
     "execution_count": 118,
     "metadata": {},
     "output_type": "execute_result"
    }
   ],
   "source": [
    "node1.children_of_observations[0][1].children_of_actions[\"CLOSE_LID\"].children_of_observations[1][1].brainstorm_actions()\n",
    "node1.children_of_observations[0][1].children_of_actions[\"CLOSE_LID\"].children_of_observations[1][1].children_of_actions[\"OPEN_LID\"].collapse_superposition()\n",
    "node1.children_of_observations[0][1].children_of_actions[\"CLOSE_LID\"].children_of_observations[1][1].children_of_actions[\"OPEN_LID\"].children_of_observations[0][1].brainstorm_actions()\n",
    "node1.children_of_observations[0][1].children_of_actions[\"CLOSE_LID\"].children_of_observations[1][1].children_of_actions[\"OPEN_LID\"].children_of_observations[0][1].children_of_actions[\"PRESS_BUTTON_TOP\"].collapse_superposition()"
   ]
  },
  {
   "cell_type": "code",
   "execution_count": 119,
   "id": "b2cc2e25-0d27-4d88-bae1-9b22c93e0d4e",
   "metadata": {},
   "outputs": [
    {
     "data": {
      "text/plain": [
       "False"
      ]
     },
     "execution_count": 119,
     "metadata": {},
     "output_type": "execute_result"
    }
   ],
   "source": [
    "node1.children_of_observations[0][1].children_of_actions[\"CLOSE_LID\"].children_of_observations[1][1].children_of_actions[\"OPEN_LID\"].children_of_observations[0][1].is_defeat"
   ]
  },
  {
   "cell_type": "code",
   "execution_count": 120,
   "id": "93054ce0-2f9e-48fa-b1ac-584bc7b2bc7a",
   "metadata": {},
   "outputs": [
    {
     "name": "stdout",
     "output_type": "stream",
     "text": [
      "Evaluating termination\n",
      "[\"LID_OPEN\", \"TREAT\"]\n",
      "Does observation have zap? False\n",
      "Evaluating termination\n",
      "[\"LID_OPEN\"]\n",
      "Does observation have zap? False\n",
      "Evaluating termination\n",
      "[\"LID_CLOSED\", \"LIGHT_TOP\"]\n",
      "Does observation have zap? False\n",
      "[\"LID_CLOSED\", \"LIGHT_BOTTOM\"]\n",
      "Does observation have zap? False\n",
      "Evaluating termination\n",
      "[\"LID_OPEN\"]\n",
      "Does observation have zap? False\n"
     ]
    },
    {
     "data": {
      "text/plain": [
       "[<__main__.ActionSearchNode at 0x2455d0f6250>]"
      ]
     },
     "execution_count": 120,
     "metadata": {},
     "output_type": "execute_result"
    }
   ],
   "source": [
    "node1.children_of_observations[0][1].children_of_actions[\"CLOSE_LID\"].children_of_observations[1][1].children_of_actions[\"OPEN_LID\"].children_of_observations[0][1].children_of_actions[\"PRESS_BUTTON_BOTTOM\"].collapse_superposition()"
   ]
  },
  {
   "cell_type": "code",
   "execution_count": 121,
   "id": "35daa78f-b3e5-43aa-9b4f-90b1e9ccf0bc",
   "metadata": {},
   "outputs": [
    {
     "data": {
      "text/plain": [
       "True"
      ]
     },
     "execution_count": 121,
     "metadata": {},
     "output_type": "execute_result"
    }
   ],
   "source": [
    "node1.children_of_observations[0][1].children_of_actions[\"CLOSE_LID\"].children_of_observations[1][1].children_of_actions[\"OPEN_LID\"].children_of_observations[0][1].children_of_actions[\"PRESS_BUTTON_BOTTOM\"].is_victory"
   ]
  },
  {
   "cell_type": "code",
   "execution_count": 122,
   "id": "fde17fdc-877e-49e7-80c9-52c2fc91f580",
   "metadata": {},
   "outputs": [
    {
     "data": {
      "text/plain": [
       "True"
      ]
     },
     "execution_count": 122,
     "metadata": {},
     "output_type": "execute_result"
    }
   ],
   "source": [
    "node1.is_victory"
   ]
  },
  {
   "cell_type": "code",
   "execution_count": 132,
   "id": "32138976-6219-409e-8a88-16a08c6b1985",
   "metadata": {},
   "outputs": [
    {
     "data": {
      "text/plain": [
       "[('PRESS_BUTTON_TOP', False),\n",
       " ('CLOSE_LID', True),\n",
       " ('PRESS_BUTTON_BOTTOM', False),\n",
       " ('OPEN_LID', False)]"
      ]
     },
     "execution_count": 132,
     "metadata": {},
     "output_type": "execute_result"
    }
   ],
   "source": [
    "[(k,v.is_victory) for k,v in node1.children_of_observations[0][1].children_of_actions.items()]"
   ]
  },
  {
   "cell_type": "code",
   "execution_count": null,
   "id": "d7a26050-3d58-431f-ad99-e4353f8ee296",
   "metadata": {},
   "outputs": [],
   "source": []
  }
 ],
 "metadata": {
  "kernelspec": {
   "display_name": "Python 3 (ipykernel)",
   "language": "python",
   "name": "python3"
  },
  "language_info": {
   "codemirror_mode": {
    "name": "ipython",
    "version": 3
   },
   "file_extension": ".py",
   "mimetype": "text/x-python",
   "name": "python",
   "nbconvert_exporter": "python",
   "pygments_lexer": "ipython3",
   "version": "3.9.13"
  }
 },
 "nbformat": 4,
 "nbformat_minor": 5
}
