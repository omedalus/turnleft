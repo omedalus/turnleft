{
 "cells": [
  {
   "cell_type": "code",
   "execution_count": 17,
   "id": "de25d4cd-342b-4de1-9266-d9826073f8de",
   "metadata": {},
   "outputs": [],
   "source": [
    "from LampButtonBoxState import LampButtonBoxState\n",
    "b0 = LampButtonBoxState()"
   ]
  },
  {
   "cell_type": "code",
   "execution_count": 18,
   "id": "9f799c45-c4e3-4697-ad3e-4a17df68842a",
   "metadata": {},
   "outputs": [
    {
     "data": {
      "text/plain": [
       "{'LID_OPEN'}"
      ]
     },
     "execution_count": 18,
     "metadata": {},
     "output_type": "execute_result"
    }
   ],
   "source": [
    "b0.observe()"
   ]
  },
  {
   "cell_type": "code",
   "execution_count": 19,
   "id": "80f5e81b-df07-49d6-b50b-851dabcd11f3",
   "metadata": {},
   "outputs": [
    {
     "data": {
      "text/plain": [
       "{'LID_CLOSED', 'LIGHT_BOTTOM'}"
      ]
     },
     "execution_count": 19,
     "metadata": {},
     "output_type": "execute_result"
    }
   ],
   "source": [
    "b1 = b0.act(\"CLOSE_LID\")\n",
    "b1.observe()"
   ]
  },
  {
   "cell_type": "code",
   "execution_count": 20,
   "id": "faa4b2d7-9871-495f-a975-75bcc277bf4e",
   "metadata": {},
   "outputs": [
    {
     "data": {
      "text/plain": [
       "{'LID_OPEN'}"
      ]
     },
     "execution_count": 20,
     "metadata": {},
     "output_type": "execute_result"
    }
   ],
   "source": [
    "b0.observe()"
   ]
  },
  {
   "cell_type": "code",
   "execution_count": 21,
   "id": "469a06e1-c57f-4b2c-a2e5-1ffaeabfacda",
   "metadata": {},
   "outputs": [
    {
     "data": {
      "text/plain": [
       "{'LID_OPEN'}"
      ]
     },
     "execution_count": 21,
     "metadata": {},
     "output_type": "execute_result"
    }
   ],
   "source": [
    "b2 = b1.act(\"OPEN_LID\")\n",
    "b2.observe()"
   ]
  },
  {
   "cell_type": "code",
   "execution_count": 22,
   "id": "900a708f-7331-40bc-bbbf-515216645587",
   "metadata": {},
   "outputs": [
    {
     "data": {
      "text/plain": [
       "{'LID_OPEN', 'TREAT'}"
      ]
     },
     "execution_count": 22,
     "metadata": {},
     "output_type": "execute_result"
    }
   ],
   "source": [
    "b3 = b2.act(\"PRESS_BUTTON_BOTTOM\")\n",
    "b3.observe()"
   ]
  },
  {
   "cell_type": "code",
   "execution_count": 23,
   "id": "12cff6ee-cafa-4552-9bdb-69f0f2347293",
   "metadata": {},
   "outputs": [
    {
     "data": {
      "text/plain": [
       "3"
      ]
     },
     "execution_count": 23,
     "metadata": {},
     "output_type": "execute_result"
    }
   ],
   "source": [
    "b3.cost"
   ]
  },
  {
   "cell_type": "code",
   "execution_count": null,
   "id": "bb831a48-b1b3-4180-9189-7924b79c8e0f",
   "metadata": {},
   "outputs": [],
   "source": []
  }
 ],
 "metadata": {
  "kernelspec": {
   "display_name": "Python 3 (ipykernel)",
   "language": "python",
   "name": "python3"
  },
  "language_info": {
   "codemirror_mode": {
    "name": "ipython",
    "version": 3
   },
   "file_extension": ".py",
   "mimetype": "text/x-python",
   "name": "python",
   "nbconvert_exporter": "python",
   "pygments_lexer": "ipython3",
   "version": "3.9.13"
  }
 },
 "nbformat": 4,
 "nbformat_minor": 5
}
